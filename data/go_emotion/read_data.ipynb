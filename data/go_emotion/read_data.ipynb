{
 "cells": [
  {
   "cell_type": "code",
   "execution_count": 10,
   "id": "7535ea93",
   "metadata": {},
   "outputs": [],
   "source": [
    "import re\n",
    "import pandas as pd"
   ]
  },
  {
   "cell_type": "code",
   "execution_count": 67,
   "id": "b630f7b1",
   "metadata": {},
   "outputs": [
    {
     "name": "stderr",
     "output_type": "stream",
     "text": [
      "Using custom data configuration default\n",
      "Reusing dataset empathetic_dialogues (/home/dinobby/.cache/huggingface/datasets/empathetic_dialogues/default/0.1.0/0586bba21c876733a0395ea29b5c37898aa52bc3aff217f072f601826cfe37ae)\n",
      "Using custom data configuration default\n",
      "Reusing dataset empathetic_dialogues (/home/dinobby/.cache/huggingface/datasets/empathetic_dialogues/default/0.1.0/0586bba21c876733a0395ea29b5c37898aa52bc3aff217f072f601826cfe37ae)\n",
      "Using custom data configuration default\n",
      "Reusing dataset empathetic_dialogues (/home/dinobby/.cache/huggingface/datasets/empathetic_dialogues/default/0.1.0/0586bba21c876733a0395ea29b5c37898aa52bc3aff217f072f601826cfe37ae)\n"
     ]
    }
   ],
   "source": [
    "from datasets import load_dataset\n",
    "label2idx = {'sad': 0, 'trusting': 1, 'terrified': 2, 'caring': 3, 'disappointed': 4,\n",
    "         'faithful': 5, 'joyful': 6, 'jealous': 7, 'disgusted': 8, 'surprised': 9,\n",
    "         'ashamed': 10, 'afraid': 11, 'impressed': 12, 'sentimental': 13, \n",
    "         'devastated': 14, 'excited': 15, 'anticipating': 16, 'annoyed': 17, 'anxious': 18,\n",
    "         'furious': 19, 'content': 20, 'lonely': 21, 'angry': 22, 'confident': 23,\n",
    "         'apprehensive': 24, 'guilty': 25, 'embarrassed': 26, 'grateful': 27,\n",
    "         'hopeful': 28, 'proud': 29, 'prepared': 30, 'nostalgic': 31}\n",
    "\n",
    "idx2label = {v: k for k, v in label2idx.items()}\n",
    "\n",
    "train_text, train_label = (load_dataset('empathetic_dialogues', split='train'), label2idx)\n",
    "valid_text, valid_label = (load_dataset('empathetic_dialogues', split='validation'), label2idx)\n",
    "test_text, test_label = (load_dataset('empathetic_dialogues', split='test'), label2idx)"
   ]
  },
  {
   "cell_type": "code",
   "execution_count": 79,
   "id": "53240a52",
   "metadata": {},
   "outputs": [],
   "source": [
    "ok, cool = [], []\n",
    "for i in test_text:\n",
    "    if i['utterance_idx'] == 1:\n",
    "        ok.append(i['prompt'])\n",
    "        cool.append(i)"
   ]
  },
  {
   "cell_type": "code",
   "execution_count": 87,
   "id": "202dea88",
   "metadata": {
    "scrolled": true
   },
   "outputs": [
    {
     "data": {
      "text/plain": [
       "'she got with him for money'"
      ]
     },
     "execution_count": 87,
     "metadata": {},
     "output_type": "execute_result"
    }
   ],
   "source": [
    "ok[438]"
   ]
  },
  {
   "cell_type": "code",
   "execution_count": 93,
   "id": "4ac183b6",
   "metadata": {},
   "outputs": [
    {
     "data": {
      "text/plain": [
       "{'conv_id': 'hit:2630_conv:5261',\n",
       " 'utterance_idx': 1,\n",
       " 'context': 'excited',\n",
       " 'prompt': 'going to get a new car soon',\n",
       " 'speaker_idx': 188,\n",
       " 'utterance': \"I can't wait to get a new car soon\",\n",
       " 'selfeval': '5|5|5_3|4|5',\n",
       " 'tags': ''}"
      ]
     },
     "execution_count": 93,
     "metadata": {},
     "output_type": "execute_result"
    }
   ],
   "source": [
    "cool[452]"
   ]
  },
  {
   "cell_type": "code",
   "execution_count": 43,
   "id": "987b5738",
   "metadata": {},
   "outputs": [],
   "source": [
    "df = pd.read_csv('train.csv')"
   ]
  },
  {
   "cell_type": "code",
   "execution_count": 44,
   "id": "e3379d0a",
   "metadata": {
    "scrolled": true
   },
   "outputs": [
    {
     "data": {
      "text/html": [
       "<div>\n",
       "<style scoped>\n",
       "    .dataframe tbody tr th:only-of-type {\n",
       "        vertical-align: middle;\n",
       "    }\n",
       "\n",
       "    .dataframe tbody tr th {\n",
       "        vertical-align: top;\n",
       "    }\n",
       "\n",
       "    .dataframe thead th {\n",
       "        text-align: right;\n",
       "    }\n",
       "</style>\n",
       "<table border=\"1\" class=\"dataframe\">\n",
       "  <thead>\n",
       "    <tr style=\"text-align: right;\">\n",
       "      <th></th>\n",
       "      <th>text</th>\n",
       "      <th>aug_text</th>\n",
       "      <th>label</th>\n",
       "    </tr>\n",
       "  </thead>\n",
       "  <tbody>\n",
       "    <tr>\n",
       "      <th>0</th>\n",
       "      <td>WHY THE FUCK IS BAYLESS ISOING</td>\n",
       "      <td>Why the fuck is it a business sign?</td>\n",
       "      <td>2</td>\n",
       "    </tr>\n",
       "    <tr>\n",
       "      <th>1</th>\n",
       "      <td>To make her feel threatened</td>\n",
       "      <td>Makes her feel threatened.</td>\n",
       "      <td>14</td>\n",
       "    </tr>\n",
       "    <tr>\n",
       "      <th>2</th>\n",
       "      <td>Dirty Southern Wankers</td>\n",
       "      <td>Filthy southern scoundrel.</td>\n",
       "      <td>3</td>\n",
       "    </tr>\n",
       "    <tr>\n",
       "      <th>3</th>\n",
       "      <td>OmG pEyToN iSn'T gOoD eNoUgH tO hElP uS iN tHe...</td>\n",
       "      <td>Omg PEYNON iSn't gED eNougH tO hEP US iN thyoffs!</td>\n",
       "      <td>26</td>\n",
       "    </tr>\n",
       "    <tr>\n",
       "      <th>4</th>\n",
       "      <td>Yes I heard abt the f bombs! That has to be wh...</td>\n",
       "      <td>Yes, I heard the explosion of the F bomb. That...</td>\n",
       "      <td>15</td>\n",
       "    </tr>\n",
       "  </tbody>\n",
       "</table>\n",
       "</div>"
      ],
      "text/plain": [
       "                                                text  \\\n",
       "0                     WHY THE FUCK IS BAYLESS ISOING   \n",
       "1                        To make her feel threatened   \n",
       "2                             Dirty Southern Wankers   \n",
       "3  OmG pEyToN iSn'T gOoD eNoUgH tO hElP uS iN tHe...   \n",
       "4  Yes I heard abt the f bombs! That has to be wh...   \n",
       "\n",
       "                                            aug_text  label  \n",
       "0                Why the fuck is it a business sign?      2  \n",
       "1                         Makes her feel threatened.     14  \n",
       "2                         Filthy southern scoundrel.      3  \n",
       "3  Omg PEYNON iSn't gED eNougH tO hEP US iN thyoffs!     26  \n",
       "4  Yes, I heard the explosion of the F bomb. That...     15  "
      ]
     },
     "execution_count": 44,
     "metadata": {},
     "output_type": "execute_result"
    }
   ],
   "source": [
    "df.head()"
   ]
  },
  {
   "cell_type": "code",
   "execution_count": 47,
   "id": "f3a2e3af",
   "metadata": {},
   "outputs": [
    {
     "data": {
      "text/plain": [
       "\"omg peyton isn't good enough to help us in the playoffs! dumbass broncos fans circa december 2015.\""
      ]
     },
     "execution_count": 47,
     "metadata": {},
     "output_type": "execute_result"
    }
   ],
   "source": [
    "df.text[3].lower()"
   ]
  },
  {
   "cell_type": "code",
   "execution_count": 41,
   "id": "fd5c11fd",
   "metadata": {
    "scrolled": true
   },
   "outputs": [
    {
     "data": {
      "text/plain": [
       "array(['I have a bad feeling I’m gonna regret not tuning into this',\n",
       "       \"Damnit Morty! D'you see wha-rrrgh-t you've done!? We're fucked Morty, the squirrels - they're recruiting dolphins now Morty. \",\n",
       "       'Does that work for the WSJ? I haven’t read an article from there in a year.',\n",
       "       'Fuck you.',\n",
       "       '$15 a month for a music service is more than Netflix. Thank u, next!',\n",
       "       \"Well what would make us special? He's vouching for his friend.\",\n",
       "       'Wow what a disappointing game. Wish we would have showed up',\n",
       "       'That’s normal for girls, lol.',\n",
       "       \"Wife just had our baby, and this story freaked me out. I can't imagine going through something like that.\",\n",
       "       'Proud of you.',\n",
       "       'No, what’s sad is saying the same message like it’s news. He’s a copy paste machine. No original thought.',\n",
       "       \"Yeah, even though I give it to him that it was confusing that they designed Crysis 1 for PCs that wouldn't come out for like 5 years.\",\n",
       "       \"I didn't know that, thanks for the clarification.\",\n",
       "       \"That's a weird way of spelling Disenchanted\",\n",
       "       'Hey! Your mom sucks.',\n",
       "       'Yea, very rude. Avoid anything with a strong smell like fish and popcorn, curry is just as strong. ',\n",
       "       'I got a lot of withholding to throw me into anxiety.',\n",
       "       \"Nah, he's much smarter than I am about soccer.\",\n",
       "       'My friend and I have been having good fun queuing Mei/Winston, trololo, and 2 bottles of whisky.',\n",
       "       'Praying for me family.'], dtype=object)"
      ]
     },
     "execution_count": 41,
     "metadata": {},
     "output_type": "execute_result"
    }
   ],
   "source": [
    "df.text[80:100].values"
   ]
  },
  {
   "cell_type": "code",
   "execution_count": 45,
   "id": "832461b5",
   "metadata": {},
   "outputs": [
    {
     "data": {
      "text/plain": [
       "865"
      ]
     },
     "execution_count": 45,
     "metadata": {},
     "output_type": "execute_result"
    }
   ],
   "source": [
    "cnt = 0\n",
    "for i in df.text:\n",
    "    if 'lol' in i.lower():\n",
    "        cnt += 1\n",
    "cnt"
   ]
  },
  {
   "cell_type": "code",
   "execution_count": 37,
   "id": "5d7c265b",
   "metadata": {
    "scrolled": true
   },
   "outputs": [
    {
     "name": "stdout",
     "output_type": "stream",
     "text": [
      "I’m so sorry 🤪\n",
      "Welcome to the freedom and democracy circus that is 'mercuh! 👍\n",
      "This was so touching ❤️❤️❤️\n",
      "Oh ok that makes sense then! Thanks for taking the time to explain. 😊\n",
      "U guys are like match made in heaven ♥️♥️♥️\n",
      "I get wound up over completely imagined conversations too 😅 I'm trying to meditate and learn to stop myself from going down the rabbit hole.\n",
      "Excellent collage, I learned so much from all these guys. The community is great, the unconfiscatable conference was awesome 🙏🏽🙏🏽\n",
      "Thanks man 🙏🏽\n",
      "This is too accurate 😂\n",
      "Thanks for giving advice to the people who need it 👌🙏\n",
      "Reading this made me happy and I don't even know you. Keep doing your thing!🙌🏼\n",
      "Thank you! Very cool!! 😎\n",
      "That’s exactly how mine is ! Wow that’s sort of funny there is an actual name For it 😳😔\n",
      "Haha I was thinking Utah but... Florida makes sense too. There’s a few crazy states 🤷🏼‍♀️\n",
      "Can't relate because the sadness and loneliness is constant 😎\n",
      "Omg I just looked it up and all the places look so beautiful there 😍 also I’m sorry that it’s homophobic\n",
      "No idea but as of last year there was a cat that liked to hang out there. Hope he’s okay ❤️\n",
      "Yes I keep hearing it’s a great and eye opening read so it on my to read list. thanks 👍\n",
      "What a beautiful memory for you to have found. So sorry for your loss ❤️\n",
      "Dam 😣 that was awesome!\n",
      "Got me spitted coffee all over my phone🤣\n",
      "Can’t wait for the saas drama!!! 😂😂\n",
      "I wish I had known this when my kitty ran off years ago. 😭\n",
      "I love how many penguins stopped and waited for him 😍\n",
      "😂 i need one too i’m on break and honestly my life revolves around reddit at this point, cake day is special enjoy it! \n",
      "You missed the point 🙃\n",
      "This happens to me all the time I’m so sorry 😣 it’s always with burgers, too. So painful. \n",
      "Lol maybe he is not but I think my point still stands 😄\n",
      "Hell yeah, i agree ☺\n",
      "👍 excellent! I was wondering if anyone else knew this little known nugget from history.\n",
      "Thank you! 💓❤\n",
      "I personally wish that they stuck with the spin offs but if their happy I’m good.👌\n",
      "Pets are the best ❤\n",
      "Fight milk 🥛 lol\n",
      "Lol ok 👌🏾\n",
      "You’re a liar. 😂\n",
      "Thank you so much. That means a lot. ❤\n",
      "RIGHT?! My mom would literally never forgive the bitch 😂\n",
      "Aww!! Thank you! I had fun making it, I also ADORE [NAME] 😍\n",
      "Yeah you better hope. I just switched to combat pro from standard and I gotta say my builds are 🗿\n",
      "Damned asshole trouble maker!! Someone has mummy issues. 👀\n",
      "that’s awful🤣🤣\n",
      "The first sentence alone sums it all up 😂\n",
      "Thank you. ❤️ I really appreciate your comment\n",
      "That sounds awesome! So good to have someone able to teach you their skills 😊\n",
      "Thank you, man🌱\n",
      "They don’t have that on iOS unfortunately 😭 but thank you for the suggestion!\n",
      "Welcome to switzerland 😂 I see it everyday, when I'm on my way to work. \n",
      "*sigh* just take it ⬆️\n",
      "Thank you 😊\n",
      "Itll happen. Im 36 and i think i finally found the one last year 🤞\n",
      "Almost in tears watching him celebrate, true captain ❤️\n",
      "That was my first thought too 😂\n",
      "Yes, and I looooooove it 😂😂\n",
      "I can't tell if this is a happy or sad ending. 😐\n"
     ]
    }
   ],
   "source": [
    "from emoji import UNICODE_EMOJI\n",
    "\n",
    "def extract_emojis(s):\n",
    "  return ''.join(c for c in s if c in UNICODE_EMOJI['en'])\n",
    "a = extract_emojis('sorry [NAME]! 😘😘😘')\n",
    "len(a)\n",
    "\n",
    "cnt = 0\n",
    "for i in df.text:\n",
    "    if len(extract_emojis(i)) > 0: \n",
    "        cnt += 1\n",
    "        print(i)"
   ]
  },
  {
   "cell_type": "code",
   "execution_count": 38,
   "id": "07bbf569",
   "metadata": {},
   "outputs": [
    {
     "name": "stdout",
     "output_type": "stream",
     "text": [
      "55\n",
      "2984\n"
     ]
    }
   ],
   "source": [
    "print(cnt)\n",
    "print(len(df))"
   ]
  },
  {
   "cell_type": "code",
   "execution_count": 17,
   "id": "ac4ee166",
   "metadata": {},
   "outputs": [],
   "source": [
    "id1, id2, w = ['semi-positive'], ['root'], [1]"
   ]
  },
  {
   "cell_type": "code",
   "execution_count": 18,
   "id": "34e3b6f8",
   "metadata": {},
   "outputs": [],
   "source": [
    "l1 = df['semi-positive'].tolist()"
   ]
  },
  {
   "cell_type": "code",
   "execution_count": 19,
   "id": "36934612",
   "metadata": {},
   "outputs": [],
   "source": [
    "l2 = df['root'].tolist()"
   ]
  },
  {
   "cell_type": "code",
   "execution_count": 20,
   "id": "93d07288",
   "metadata": {},
   "outputs": [],
   "source": [
    "for i in range(len(l1)):\n",
    "    id1.append(l1[i])\n",
    "    id2.append(l2[i])\n",
    "    w.append(1)"
   ]
  },
  {
   "cell_type": "code",
   "execution_count": 21,
   "id": "3978755b",
   "metadata": {},
   "outputs": [],
   "source": [
    "new_data = {'id1':id1, 'id2':id2, 'weight':w}"
   ]
  },
  {
   "cell_type": "code",
   "execution_count": 22,
   "id": "bbdf2726",
   "metadata": {},
   "outputs": [],
   "source": [
    "new_df = pd.DataFrame(new_data)\n",
    "new_df.to_csv('./label_tree_fb.csv',index=False)"
   ]
  },
  {
   "cell_type": "code",
   "execution_count": 23,
   "id": "f2eaf4ad",
   "metadata": {},
   "outputs": [
    {
     "data": {
      "text/plain": [
       "35"
      ]
     },
     "execution_count": 23,
     "metadata": {},
     "output_type": "execute_result"
    }
   ],
   "source": [
    "all_labels = list(set(l1 + l2))\n",
    "len(all_labels)"
   ]
  },
  {
   "cell_type": "code",
   "execution_count": 4,
   "id": "61c6c0c0",
   "metadata": {},
   "outputs": [
    {
     "data": {
      "text/html": [
       "<div>\n",
       "<style scoped>\n",
       "    .dataframe tbody tr th:only-of-type {\n",
       "        vertical-align: middle;\n",
       "    }\n",
       "\n",
       "    .dataframe tbody tr th {\n",
       "        vertical-align: top;\n",
       "    }\n",
       "\n",
       "    .dataframe thead th {\n",
       "        text-align: right;\n",
       "    }\n",
       "</style>\n",
       "<table border=\"1\" class=\"dataframe\">\n",
       "  <thead>\n",
       "    <tr style=\"text-align: right;\">\n",
       "      <th></th>\n",
       "      <th>text</th>\n",
       "      <th>aug_text</th>\n",
       "      <th>label</th>\n",
       "    </tr>\n",
       "  </thead>\n",
       "  <tbody>\n",
       "    <tr>\n",
       "      <th>0</th>\n",
       "      <td>why the fuck is bayless isoing</td>\n",
       "      <td>why the fuck is that</td>\n",
       "      <td>2</td>\n",
       "    </tr>\n",
       "    <tr>\n",
       "      <th>1</th>\n",
       "      <td>to make her feel threatened</td>\n",
       "      <td>makes her feel threatened.</td>\n",
       "      <td>14</td>\n",
       "    </tr>\n",
       "    <tr>\n",
       "      <th>2</th>\n",
       "      <td>dirty southern wankers</td>\n",
       "      <td>the dirty, dirty southerners of the south.</td>\n",
       "      <td>3</td>\n",
       "    </tr>\n",
       "    <tr>\n",
       "      <th>3</th>\n",
       "      <td>omg peyton isn't good enough to help us in the...</td>\n",
       "      <td>december 2015 moon fan</td>\n",
       "      <td>26</td>\n",
       "    </tr>\n",
       "    <tr>\n",
       "      <th>4</th>\n",
       "      <td>yes i heard abt the f bombs! that has to be wh...</td>\n",
       "      <td>thank you for the answer: \"until then, my husb...</td>\n",
       "      <td>15</td>\n",
       "    </tr>\n",
       "    <tr>\n",
       "      <th>...</th>\n",
       "      <td>...</td>\n",
       "      <td>...</td>\n",
       "      <td>...</td>\n",
       "    </tr>\n",
       "    <tr>\n",
       "      <th>23480</th>\n",
       "      <td>added you mate well i’ve just got the bow and ...</td>\n",
       "      <td>i just got the bow, i like the game hunting si...</td>\n",
       "      <td>18</td>\n",
       "    </tr>\n",
       "    <tr>\n",
       "      <th>23481</th>\n",
       "      <td>always thought that was funny but is it a refe...</td>\n",
       "      <td>it's always funny, but what do you mean</td>\n",
       "      <td>6</td>\n",
       "    </tr>\n",
       "    <tr>\n",
       "      <th>23482</th>\n",
       "      <td>what are you talking about? anything bad that ...</td>\n",
       "      <td>what are you talking about anything bad happen...</td>\n",
       "      <td>3</td>\n",
       "    </tr>\n",
       "    <tr>\n",
       "      <th>23483</th>\n",
       "      <td>more like a baptism, with sexy results!</td>\n",
       "      <td>more like baptism, with sexy results!</td>\n",
       "      <td>13</td>\n",
       "    </tr>\n",
       "    <tr>\n",
       "      <th>23484</th>\n",
       "      <td>enjoy the ride!</td>\n",
       "      <td>enjoy the ride!</td>\n",
       "      <td>17</td>\n",
       "    </tr>\n",
       "  </tbody>\n",
       "</table>\n",
       "<p>23485 rows × 3 columns</p>\n",
       "</div>"
      ],
      "text/plain": [
       "                                                    text  \\\n",
       "0                         why the fuck is bayless isoing   \n",
       "1                            to make her feel threatened   \n",
       "2                                 dirty southern wankers   \n",
       "3      omg peyton isn't good enough to help us in the...   \n",
       "4      yes i heard abt the f bombs! that has to be wh...   \n",
       "...                                                  ...   \n",
       "23480  added you mate well i’ve just got the bow and ...   \n",
       "23481  always thought that was funny but is it a refe...   \n",
       "23482  what are you talking about? anything bad that ...   \n",
       "23483            more like a baptism, with sexy results!   \n",
       "23484                                    enjoy the ride!   \n",
       "\n",
       "                                                aug_text  label  \n",
       "0                                   why the fuck is that      2  \n",
       "1                             makes her feel threatened.     14  \n",
       "2             the dirty, dirty southerners of the south.      3  \n",
       "3                                 december 2015 moon fan     26  \n",
       "4      thank you for the answer: \"until then, my husb...     15  \n",
       "...                                                  ...    ...  \n",
       "23480  i just got the bow, i like the game hunting si...     18  \n",
       "23481            it's always funny, but what do you mean      6  \n",
       "23482  what are you talking about anything bad happen...      3  \n",
       "23483              more like baptism, with sexy results!     13  \n",
       "23484                                    enjoy the ride!     17  \n",
       "\n",
       "[23485 rows x 3 columns]"
      ]
     },
     "execution_count": 4,
     "metadata": {},
     "output_type": "execute_result"
    }
   ],
   "source": [
    "train = pd.read_csv(\"./baseline/train.csv\")\n",
    "train"
   ]
  },
  {
   "cell_type": "code",
   "execution_count": 6,
   "id": "77279825-7e93-4cfb-b67b-c08f10413526",
   "metadata": {},
   "outputs": [],
   "source": [
    "new_df = pd.read_csv(\"./noise_aug/noise_augmentation.csv\")\n",
    "new_df = new_df[[\"text\", \"aug_text\", \"label\"]]"
   ]
  },
  {
   "cell_type": "code",
   "execution_count": 7,
   "id": "be7946d0-2d87-4fc1-9985-e6775a33dbd1",
   "metadata": {},
   "outputs": [],
   "source": [
    "new_train = pd.concat([train, new_df])"
   ]
  },
  {
   "cell_type": "code",
   "execution_count": 9,
   "id": "b4ac0e84-e56c-4a97-b190-97f32b398892",
   "metadata": {},
   "outputs": [],
   "source": [
    "new_train.to_csv(\"./noise_aug/train.csv\", index=False)"
   ]
  },
  {
   "cell_type": "code",
   "execution_count": null,
   "id": "b2c0e4a4-21aa-4fdd-b01d-586bba8a79b5",
   "metadata": {},
   "outputs": [],
   "source": []
  },
  {
   "cell_type": "code",
   "execution_count": null,
   "id": "90a84776-6a75-42a4-8c55-190678948f8f",
   "metadata": {},
   "outputs": [],
   "source": []
  },
  {
   "cell_type": "code",
   "execution_count": null,
   "id": "f76d0db1-2374-47f3-aa5a-46b1203ff352",
   "metadata": {},
   "outputs": [],
   "source": []
  },
  {
   "cell_type": "code",
   "execution_count": 12,
   "id": "1cdcce01-7566-4f8d-9ed2-9bb4376bd9dc",
   "metadata": {},
   "outputs": [
    {
     "data": {
      "text/html": [
       "<div>\n",
       "<style scoped>\n",
       "    .dataframe tbody tr th:only-of-type {\n",
       "        vertical-align: middle;\n",
       "    }\n",
       "\n",
       "    .dataframe tbody tr th {\n",
       "        vertical-align: top;\n",
       "    }\n",
       "\n",
       "    .dataframe thead th {\n",
       "        text-align: right;\n",
       "    }\n",
       "</style>\n",
       "<table border=\"1\" class=\"dataframe\">\n",
       "  <thead>\n",
       "    <tr style=\"text-align: right;\">\n",
       "      <th></th>\n",
       "      <th>text</th>\n",
       "      <th>aug_text</th>\n",
       "      <th>label</th>\n",
       "    </tr>\n",
       "  </thead>\n",
       "  <tbody>\n",
       "    <tr>\n",
       "      <th>0</th>\n",
       "      <td>why the fuck is bayless isoing</td>\n",
       "      <td>why the fuck is that</td>\n",
       "      <td>2</td>\n",
       "    </tr>\n",
       "    <tr>\n",
       "      <th>1</th>\n",
       "      <td>to make her feel threatened</td>\n",
       "      <td>makes her feel threatened.</td>\n",
       "      <td>14</td>\n",
       "    </tr>\n",
       "    <tr>\n",
       "      <th>2</th>\n",
       "      <td>dirty southern wankers</td>\n",
       "      <td>the dirty, dirty southerners of the south.</td>\n",
       "      <td>3</td>\n",
       "    </tr>\n",
       "    <tr>\n",
       "      <th>3</th>\n",
       "      <td>omg peyton isn't good enough to help us in the...</td>\n",
       "      <td>december 2015 moon fan</td>\n",
       "      <td>26</td>\n",
       "    </tr>\n",
       "    <tr>\n",
       "      <th>4</th>\n",
       "      <td>yes i heard abt the f bombs! that has to be wh...</td>\n",
       "      <td>thank you for the answer: \"until then, my husb...</td>\n",
       "      <td>15</td>\n",
       "    </tr>\n",
       "    <tr>\n",
       "      <th>...</th>\n",
       "      <td>...</td>\n",
       "      <td>...</td>\n",
       "      <td>...</td>\n",
       "    </tr>\n",
       "    <tr>\n",
       "      <th>23480</th>\n",
       "      <td>added you mate well i’ve just got the bow and ...</td>\n",
       "      <td>i just got the bow, i like the game hunting si...</td>\n",
       "      <td>18</td>\n",
       "    </tr>\n",
       "    <tr>\n",
       "      <th>23481</th>\n",
       "      <td>always thought that was funny but is it a refe...</td>\n",
       "      <td>it's always funny, but what do you mean</td>\n",
       "      <td>6</td>\n",
       "    </tr>\n",
       "    <tr>\n",
       "      <th>23482</th>\n",
       "      <td>what are you talking about? anything bad that ...</td>\n",
       "      <td>what are you talking about anything bad happen...</td>\n",
       "      <td>3</td>\n",
       "    </tr>\n",
       "    <tr>\n",
       "      <th>23483</th>\n",
       "      <td>more like a baptism, with sexy results!</td>\n",
       "      <td>more like baptism, with sexy results!</td>\n",
       "      <td>13</td>\n",
       "    </tr>\n",
       "    <tr>\n",
       "      <th>23484</th>\n",
       "      <td>enjoy the ride!</td>\n",
       "      <td>enjoy the ride!</td>\n",
       "      <td>17</td>\n",
       "    </tr>\n",
       "  </tbody>\n",
       "</table>\n",
       "<p>23485 rows × 3 columns</p>\n",
       "</div>"
      ],
      "text/plain": [
       "                                                    text  \\\n",
       "0                         why the fuck is bayless isoing   \n",
       "1                            to make her feel threatened   \n",
       "2                                 dirty southern wankers   \n",
       "3      omg peyton isn't good enough to help us in the...   \n",
       "4      yes i heard abt the f bombs! that has to be wh...   \n",
       "...                                                  ...   \n",
       "23480  added you mate well i’ve just got the bow and ...   \n",
       "23481  always thought that was funny but is it a refe...   \n",
       "23482  what are you talking about? anything bad that ...   \n",
       "23483            more like a baptism, with sexy results!   \n",
       "23484                                    enjoy the ride!   \n",
       "\n",
       "                                                aug_text  label  \n",
       "0                                   why the fuck is that      2  \n",
       "1                             makes her feel threatened.     14  \n",
       "2             the dirty, dirty southerners of the south.      3  \n",
       "3                                 december 2015 moon fan     26  \n",
       "4      thank you for the answer: \"until then, my husb...     15  \n",
       "...                                                  ...    ...  \n",
       "23480  i just got the bow, i like the game hunting si...     18  \n",
       "23481            it's always funny, but what do you mean      6  \n",
       "23482  what are you talking about anything bad happen...      3  \n",
       "23483              more like baptism, with sexy results!     13  \n",
       "23484                                    enjoy the ride!     17  \n",
       "\n",
       "[23485 rows x 3 columns]"
      ]
     },
     "execution_count": 12,
     "metadata": {},
     "output_type": "execute_result"
    }
   ],
   "source": [
    "baseline = pd.read_csv(\"./baseline/train.csv\")\n",
    "baseline"
   ]
  },
  {
   "cell_type": "code",
   "execution_count": 18,
   "id": "fdfd5710-9d3d-4391-be22-dd574e20d28b",
   "metadata": {},
   "outputs": [
    {
     "data": {
      "text/html": [
       "<div>\n",
       "<style scoped>\n",
       "    .dataframe tbody tr th:only-of-type {\n",
       "        vertical-align: middle;\n",
       "    }\n",
       "\n",
       "    .dataframe tbody tr th {\n",
       "        vertical-align: top;\n",
       "    }\n",
       "\n",
       "    .dataframe thead th {\n",
       "        text-align: right;\n",
       "    }\n",
       "</style>\n",
       "<table border=\"1\" class=\"dataframe\">\n",
       "  <thead>\n",
       "    <tr style=\"text-align: right;\">\n",
       "      <th></th>\n",
       "      <th>text</th>\n",
       "      <th>aug_text</th>\n",
       "      <th>label</th>\n",
       "    </tr>\n",
       "  </thead>\n",
       "  <tbody>\n",
       "    <tr>\n",
       "      <th>0</th>\n",
       "      <td>why the fuck is bayless isoing</td>\n",
       "      <td>why the fuck is that</td>\n",
       "      <td>2</td>\n",
       "    </tr>\n",
       "    <tr>\n",
       "      <th>1</th>\n",
       "      <td>to make her feel threatened</td>\n",
       "      <td>makes her feel threatened.</td>\n",
       "      <td>14</td>\n",
       "    </tr>\n",
       "    <tr>\n",
       "      <th>2</th>\n",
       "      <td>dirty southern wankers</td>\n",
       "      <td>the dirty, dirty southerners of the south.</td>\n",
       "      <td>3</td>\n",
       "    </tr>\n",
       "    <tr>\n",
       "      <th>3</th>\n",
       "      <td>omg peyton isn't good enough to help us in the...</td>\n",
       "      <td>december 2015 moon fan</td>\n",
       "      <td>26</td>\n",
       "    </tr>\n",
       "    <tr>\n",
       "      <th>4</th>\n",
       "      <td>yes i heard abt the f bombs! that has to be wh...</td>\n",
       "      <td>thank you for the answer: \"until then, my husb...</td>\n",
       "      <td>15</td>\n",
       "    </tr>\n",
       "    <tr>\n",
       "      <th>...</th>\n",
       "      <td>...</td>\n",
       "      <td>...</td>\n",
       "      <td>...</td>\n",
       "    </tr>\n",
       "    <tr>\n",
       "      <th>32156</th>\n",
       "      <td>[name] was half-blood but it is the smart idea...</td>\n",
       "      <td>[name] is half blood, but bringing up his fath...</td>\n",
       "      <td>10</td>\n",
       "    </tr>\n",
       "    <tr>\n",
       "      <th>32157</th>\n",
       "      <td>i just believe that i'm comfortable picking on...</td>\n",
       "      <td>i don't know if i'm comfortable with a religio...</td>\n",
       "      <td>6</td>\n",
       "    </tr>\n",
       "    <tr>\n",
       "      <th>32158</th>\n",
       "      <td>always thought that was awesome but is it real...</td>\n",
       "      <td>it's always funny, but what do you mean</td>\n",
       "      <td>6</td>\n",
       "    </tr>\n",
       "    <tr>\n",
       "      <th>32159</th>\n",
       "      <td>what are you talking about? Nothing bad that h...</td>\n",
       "      <td>what are you talking about anything bad happen...</td>\n",
       "      <td>3</td>\n",
       "    </tr>\n",
       "    <tr>\n",
       "      <th>32160</th>\n",
       "      <td>more like a game, only better results!</td>\n",
       "      <td>more like baptism, with sexy results!</td>\n",
       "      <td>13</td>\n",
       "    </tr>\n",
       "  </tbody>\n",
       "</table>\n",
       "<p>32161 rows × 3 columns</p>\n",
       "</div>"
      ],
      "text/plain": [
       "                                                    text  \\\n",
       "0                         why the fuck is bayless isoing   \n",
       "1                            to make her feel threatened   \n",
       "2                                 dirty southern wankers   \n",
       "3      omg peyton isn't good enough to help us in the...   \n",
       "4      yes i heard abt the f bombs! that has to be wh...   \n",
       "...                                                  ...   \n",
       "32156  [name] was half-blood but it is the smart idea...   \n",
       "32157  i just believe that i'm comfortable picking on...   \n",
       "32158  always thought that was awesome but is it real...   \n",
       "32159  what are you talking about? Nothing bad that h...   \n",
       "32160             more like a game, only better results!   \n",
       "\n",
       "                                                aug_text  label  \n",
       "0                                   why the fuck is that      2  \n",
       "1                             makes her feel threatened.     14  \n",
       "2             the dirty, dirty southerners of the south.      3  \n",
       "3                                 december 2015 moon fan     26  \n",
       "4      thank you for the answer: \"until then, my husb...     15  \n",
       "...                                                  ...    ...  \n",
       "32156  [name] is half blood, but bringing up his fath...     10  \n",
       "32157  i don't know if i'm comfortable with a religio...      6  \n",
       "32158            it's always funny, but what do you mean      6  \n",
       "32159  what are you talking about anything bad happen...      3  \n",
       "32160              more like baptism, with sexy results!     13  \n",
       "\n",
       "[32161 rows x 3 columns]"
      ]
     },
     "execution_count": 18,
     "metadata": {},
     "output_type": "execute_result"
    }
   ],
   "source": [
    "word2 = pd.read_csv(\"./word2_augmentation/train.csv\")\n",
    "word2"
   ]
  },
  {
   "cell_type": "code",
   "execution_count": 14,
   "id": "96de52f7-43ea-4138-a3f8-f1a51b022300",
   "metadata": {},
   "outputs": [
    {
     "data": {
      "text/html": [
       "<div>\n",
       "<style scoped>\n",
       "    .dataframe tbody tr th:only-of-type {\n",
       "        vertical-align: middle;\n",
       "    }\n",
       "\n",
       "    .dataframe tbody tr th {\n",
       "        vertical-align: top;\n",
       "    }\n",
       "\n",
       "    .dataframe thead th {\n",
       "        text-align: right;\n",
       "    }\n",
       "</style>\n",
       "<table border=\"1\" class=\"dataframe\">\n",
       "  <thead>\n",
       "    <tr style=\"text-align: right;\">\n",
       "      <th></th>\n",
       "      <th>text</th>\n",
       "      <th>aug_text</th>\n",
       "      <th>label</th>\n",
       "      <th>true_label</th>\n",
       "    </tr>\n",
       "  </thead>\n",
       "  <tbody>\n",
       "    <tr>\n",
       "      <th>0</th>\n",
       "      <td>dirty blond chef</td>\n",
       "      <td>the dirty, dirty southerners of the south.</td>\n",
       "      <td>3</td>\n",
       "      <td>annoyance</td>\n",
       "    </tr>\n",
       "    <tr>\n",
       "      <th>1</th>\n",
       "      <td>demographics? i cannot remember who under 35 r...</td>\n",
       "      <td>i don't know anyone under 35 with cable tv.</td>\n",
       "      <td>6</td>\n",
       "      <td>confusion</td>\n",
       "    </tr>\n",
       "    <tr>\n",
       "      <th>2</th>\n",
       "      <td>r/sleeptrain was best used for some sleep trai...</td>\n",
       "      <td>r/sleeptrain may be time for some sleep traini...</td>\n",
       "      <td>5</td>\n",
       "      <td>caring</td>\n",
       "    </tr>\n",
       "    <tr>\n",
       "      <th>3</th>\n",
       "      <td>[name] : same same problem, new simplified com...</td>\n",
       "      <td>same fucking problem, slightly better command ...</td>\n",
       "      <td>3</td>\n",
       "      <td>annoyance</td>\n",
       "    </tr>\n",
       "    <tr>\n",
       "      <th>4</th>\n",
       "      <td>all sounds likely is the former, i could see h...</td>\n",
       "      <td>except for the keys, i can't see how i missed ...</td>\n",
       "      <td>6</td>\n",
       "      <td>confusion</td>\n",
       "    </tr>\n",
       "    <tr>\n",
       "      <th>...</th>\n",
       "      <td>...</td>\n",
       "      <td>...</td>\n",
       "      <td>...</td>\n",
       "      <td>...</td>\n",
       "    </tr>\n",
       "    <tr>\n",
       "      <th>8671</th>\n",
       "      <td>[name] was half-blood but it is the smart idea...</td>\n",
       "      <td>[name] is half blood, but bringing up his fath...</td>\n",
       "      <td>10</td>\n",
       "      <td>disapproval</td>\n",
       "    </tr>\n",
       "    <tr>\n",
       "      <th>8672</th>\n",
       "      <td>i just believe that i'm comfortable picking on...</td>\n",
       "      <td>i don't know if i'm comfortable with a religio...</td>\n",
       "      <td>6</td>\n",
       "      <td>confusion</td>\n",
       "    </tr>\n",
       "    <tr>\n",
       "      <th>8673</th>\n",
       "      <td>always thought that was awesome but is it real...</td>\n",
       "      <td>it's always funny, but what do you mean</td>\n",
       "      <td>6</td>\n",
       "      <td>confusion</td>\n",
       "    </tr>\n",
       "    <tr>\n",
       "      <th>8674</th>\n",
       "      <td>what are you talking about? Nothing bad that h...</td>\n",
       "      <td>what are you talking about anything bad happen...</td>\n",
       "      <td>3</td>\n",
       "      <td>annoyance</td>\n",
       "    </tr>\n",
       "    <tr>\n",
       "      <th>8675</th>\n",
       "      <td>more like a game, only better results!</td>\n",
       "      <td>more like baptism, with sexy results!</td>\n",
       "      <td>13</td>\n",
       "      <td>excitement</td>\n",
       "    </tr>\n",
       "  </tbody>\n",
       "</table>\n",
       "<p>8676 rows × 4 columns</p>\n",
       "</div>"
      ],
      "text/plain": [
       "                                                   text  \\\n",
       "0                                      dirty blond chef   \n",
       "1     demographics? i cannot remember who under 35 r...   \n",
       "2     r/sleeptrain was best used for some sleep trai...   \n",
       "3     [name] : same same problem, new simplified com...   \n",
       "4     all sounds likely is the former, i could see h...   \n",
       "...                                                 ...   \n",
       "8671  [name] was half-blood but it is the smart idea...   \n",
       "8672  i just believe that i'm comfortable picking on...   \n",
       "8673  always thought that was awesome but is it real...   \n",
       "8674  what are you talking about? Nothing bad that h...   \n",
       "8675             more like a game, only better results!   \n",
       "\n",
       "                                               aug_text  label   true_label  \n",
       "0            the dirty, dirty southerners of the south.      3    annoyance  \n",
       "1           i don't know anyone under 35 with cable tv.      6    confusion  \n",
       "2     r/sleeptrain may be time for some sleep traini...      5       caring  \n",
       "3     same fucking problem, slightly better command ...      3    annoyance  \n",
       "4     except for the keys, i can't see how i missed ...      6    confusion  \n",
       "...                                                 ...    ...          ...  \n",
       "8671  [name] is half blood, but bringing up his fath...     10  disapproval  \n",
       "8672  i don't know if i'm comfortable with a religio...      6    confusion  \n",
       "8673            it's always funny, but what do you mean      6    confusion  \n",
       "8674  what are you talking about anything bad happen...      3    annoyance  \n",
       "8675              more like baptism, with sexy results!     13   excitement  \n",
       "\n",
       "[8676 rows x 4 columns]"
      ]
     },
     "execution_count": 14,
     "metadata": {},
     "output_type": "execute_result"
    }
   ],
   "source": [
    "auged = pd.read_csv(\"./word2_augmentation/word2_augmentation.csv\")\n",
    "auged"
   ]
  },
  {
   "cell_type": "code",
   "execution_count": 15,
   "id": "e7e3ef41-2d92-4ab3-9639-e953f09d131b",
   "metadata": {},
   "outputs": [],
   "source": [
    "final_word_aug = pd.concat([baseline, auged]) "
   ]
  },
  {
   "cell_type": "code",
   "execution_count": 17,
   "id": "f836b9d8-10ee-4bbe-8d3c-336ceb12273d",
   "metadata": {},
   "outputs": [],
   "source": [
    "final_word_aug[[\"text\", \"aug_text\", \"label\"]].to_csv(\"./word2_augmentation/train.csv\", index=False)"
   ]
  },
  {
   "cell_type": "code",
   "execution_count": null,
   "id": "23e9355c-94a2-4ffb-b9aa-c1fbfa2aae7d",
   "metadata": {},
   "outputs": [],
   "source": []
  }
 ],
 "metadata": {
  "kernelspec": {
   "display_name": "Python 3 (ipykernel)",
   "language": "python",
   "name": "python3"
  },
  "language_info": {
   "codemirror_mode": {
    "name": "ipython",
    "version": 3
   },
   "file_extension": ".py",
   "mimetype": "text/x-python",
   "name": "python",
   "nbconvert_exporter": "python",
   "pygments_lexer": "ipython3",
   "version": "3.11.5"
  }
 },
 "nbformat": 4,
 "nbformat_minor": 5
}
